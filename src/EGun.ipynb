{
 "cells": [
  {
   "cell_type": "code",
   "execution_count": 19,
   "id": "adequate-timeline",
   "metadata": {},
   "outputs": [],
   "source": [
    "from ophyd import Device, EpicsSignal, EpicsSignalRO\n",
    "from ophyd import Component as Cpt\n",
    "#from ophyd.log import config_ophyd_logging\n"
   ]
  },
  {
   "cell_type": "code",
   "execution_count": 20,
   "id": "military-bonus",
   "metadata": {},
   "outputs": [],
   "source": [
    "class EGun(Device):\n",
    "    firmware_revision = Cpt(EpicsSignalRO, 'getFirmwareRevision')\n",
    "    model_name = Cpt(EpicsSignalRO, 'getName')\n",
    "    model_revision = Cpt(EpicsSignalRO, 'getModelRevision')\n",
    "    model_config = Cpt(EpicsSignalRO, 'getModelConfig')\n",
    "    serial_number = Cpt(EpicsSignalRO, 'getSerialNumber')\n",
    "    status = Cpt(EpicsSignalRO, 'getStatus')\n",
    "    source_output = Cpt(EpicsSignal, 'getSourceOutput', write_pv='setSourceOutput')\n",
    "    source_input = Cpt(EpicsSignalRO, 'getSourceInput') \n",
    "    grid_output = Cpt(EpicsSignal, 'getGridOutput', write_pv='setGridOutput')\n",
    "    grid_input = Cpt(EpicsSignalRO, 'getGridInput') \n",
    "    first_anode_output = Cpt(EpicsSignal, 'getFirstAnodeOutput', write_pv='setFirstAnodeOutput')\n",
    "    first_anode_input = Cpt(EpicsSignalRO, 'getFirstAnodeInput')\n",
    "    focus_output = Cpt(EpicsSignal, 'getFocusOutput', write_pv='setFocusOutput')\n",
    "    focus_input = Cpt(EpicsSignalRO, 'getFocusInput')\n",
    "    ecc_output = Cpt(EpicsSignal, 'getECCOutput', write_pv='setECCOutput')\n",
    "    energy_input = Cpt(EpicsSignalRO, 'getEnergyInput')\n",
    "    emission_current_input = Cpt(EpicsSignalRO, 'getEmissionCurrentInput')\n",
    "    source_current_input = Cpt(EpicsSignalRO, 'getSourceCurrentInput')\n",
    "    is_panel_enabled = Cpt(EpicsSignal, 'setPanelEnable')\n",
    "    is_debug_enabled = Cpt(EpicsSignal, 'setDebugEnable')\n",
    "    reset_device = Cpt(EpicsSignal, 'reset')\n",
    "    save_device = Cpt(EpicsSignal, 'save')\n",
    "    resume_device = Cpt(EpicsSignal, 'resume')\n",
    "    shutdown_device = Cpt(EpicsSignal, 'shutdown')\n",
    "        \n",
    "        \n",
    "    def stage(self):\n",
    "        self.resume_device.get()\n",
    "        self.is_debug_enabled.set(1)\n",
    "        self.save_device.get()\n",
    "        self.wait_for_connection()\n",
    "        super().stage()\n",
    "        \n",
    "        \n",
    "    def unstage(self):\n",
    "        self.save_device.get()\n",
    "        self.is_debug_enabled.set(0)\n",
    "        self.save_device.get()\n",
    "        self.wait_for_connection()\n",
    "        super().unstage()\n",
    "    \n",
    "    \n",
    "    def set_parameter_voltage(self, value, output_object, input_object, name, unit):\n",
    "        if self.status.get()==1:\n",
    "            self.stage()\n",
    "            output_object.set(value)\n",
    "            self.unstage()\n",
    "            return print(name, \" voltage(\",unit,\") is set to = \", output_object.get(), \n",
    "                         \"\\n The real \",name,\" energy(\",unit,\") is on =\", input_object.get())\n",
    "        else:\n",
    "            return print(\"Device status is off.\")\n",
    "          \n",
    "        \n",
    "    def print_device_info(self):\n",
    "        return print(\"EGun Specifications:\\n\",\n",
    "                     \"\\n\"+\"Firmware Revision = \",self.firmware_revision.get(),\n",
    "                     \"\\n\"+\"Model Name = \",self.model_name.get(),\n",
    "                     \"\\n\"+\"Model Revision = \",self.model_revision.get(),\n",
    "                     \"\\n\"+\"Model Config = \",self.model_config.get(),\n",
    "                     \"\\n\"+\"Serial Number = \",self.serial_number.get(),\n",
    "                     \"\\n\"+\"Channel 1 Output = \",self.channel_one_output.get(),\n",
    "                     \"\\n\"+\"Channel 1 Input = \",self.channel_one_input.get())\n",
    "    \n",
    "    "
   ]
  },
  {
   "cell_type": "code",
   "execution_count": 21,
   "id": "hazardous-schedule",
   "metadata": {},
   "outputs": [
    {
     "ename": "TimeoutError",
     "evalue": "Failed to connect to all signals: eGunTest.source_output (SISSYANAEX:EGUN00:getSourceOutput), eGunTest.source_input (SISSYANAEX:EGUN00:getSourceInput), eGunTest.grid_output (SISSYANAEX:EGUN00:getGridOutput), eGunTest.grid_input (SISSYANAEX:EGUN00:getGridInput), eGunTest.first_anode_output (SISSYANAEX:EGUN00:getFirstAnodeOutput), eGunTest.first_anode_input (SISSYANAEX:EGUN00:getFirstAnodeInput), eGunTest.focus_output (SISSYANAEX:EGUN00:getFocusOutput), eGunTest.focus_input (SISSYANAEX:EGUN00:getFocusInput), eGunTest.ecc_output (SISSYANAEX:EGUN00:getECCOutput), eGunTest.energy_input (SISSYANAEX:EGUN00:getEnergyInput), eGunTest.emission_current_input (SISSYANAEX:EGUN00:getEmissionCurrentInput), eGunTest.source_current_input (SISSYANAEX:EGUN00:getSourceCurrentInput)",
     "output_type": "error",
     "traceback": [
      "\u001b[0;31m---------------------------------------------------------------------------\u001b[0m",
      "\u001b[0;31mTimeoutError\u001b[0m                              Traceback (most recent call last)",
      "\u001b[0;32m<ipython-input-21-ed0106ef255d>\u001b[0m in \u001b[0;36m<module>\u001b[0;34m\u001b[0m\n\u001b[1;32m      1\u001b[0m \u001b[0mprefixSISSYANAEX\u001b[0m \u001b[0;34m=\u001b[0m \u001b[0;34m'SISSYANAEX:EGUN00:'\u001b[0m\u001b[0;34m\u001b[0m\u001b[0;34m\u001b[0m\u001b[0m\n\u001b[1;32m      2\u001b[0m \u001b[0me_gun\u001b[0m \u001b[0;34m=\u001b[0m \u001b[0mEGun\u001b[0m\u001b[0;34m(\u001b[0m\u001b[0mprefixSISSYANAEX\u001b[0m\u001b[0;34m,\u001b[0m \u001b[0mname\u001b[0m\u001b[0;34m=\u001b[0m\u001b[0;34m'eGunTest'\u001b[0m\u001b[0;34m)\u001b[0m\u001b[0;34m\u001b[0m\u001b[0;34m\u001b[0m\u001b[0m\n\u001b[0;32m----> 3\u001b[0;31m \u001b[0me_gun\u001b[0m\u001b[0;34m.\u001b[0m\u001b[0mwait_for_connection\u001b[0m\u001b[0;34m(\u001b[0m\u001b[0;34m)\u001b[0m\u001b[0;34m\u001b[0m\u001b[0;34m\u001b[0m\u001b[0m\n\u001b[0m",
      "\u001b[0;32m/opt/tljh/user/lib/python3.7/site-packages/ophyd/device.py\u001b[0m in \u001b[0;36mwait_for_connection\u001b[0;34m(self, all_signals, timeout)\u001b[0m\n\u001b[1;32m   1151\u001b[0m                                 for obj, description in funcs.items())\n\u001b[1;32m   1152\u001b[0m             \u001b[0mreasons\u001b[0m\u001b[0;34m.\u001b[0m\u001b[0mappend\u001b[0m\u001b[0;34m(\u001b[0m\u001b[0;34mf'Pending operations: {pending}'\u001b[0m\u001b[0;34m)\u001b[0m\u001b[0;34m\u001b[0m\u001b[0;34m\u001b[0m\u001b[0m\n\u001b[0;32m-> 1153\u001b[0;31m         \u001b[0;32mraise\u001b[0m \u001b[0mTimeoutError\u001b[0m\u001b[0;34m(\u001b[0m\u001b[0;34m'; '\u001b[0m\u001b[0;34m.\u001b[0m\u001b[0mjoin\u001b[0m\u001b[0;34m(\u001b[0m\u001b[0mreasons\u001b[0m\u001b[0;34m)\u001b[0m\u001b[0;34m)\u001b[0m\u001b[0;34m\u001b[0m\u001b[0;34m\u001b[0m\u001b[0m\n\u001b[0m\u001b[1;32m   1154\u001b[0m \u001b[0;34m\u001b[0m\u001b[0m\n\u001b[1;32m   1155\u001b[0m     \u001b[0;32mdef\u001b[0m \u001b[0mget_instantiated_signals\u001b[0m\u001b[0;34m(\u001b[0m\u001b[0mself\u001b[0m\u001b[0;34m,\u001b[0m \u001b[0;34m*\u001b[0m\u001b[0;34m,\u001b[0m \u001b[0mattr_prefix\u001b[0m\u001b[0;34m=\u001b[0m\u001b[0;32mNone\u001b[0m\u001b[0;34m)\u001b[0m\u001b[0;34m:\u001b[0m\u001b[0;34m\u001b[0m\u001b[0;34m\u001b[0m\u001b[0m\n",
      "\u001b[0;31mTimeoutError\u001b[0m: Failed to connect to all signals: eGunTest.source_output (SISSYANAEX:EGUN00:getSourceOutput), eGunTest.source_input (SISSYANAEX:EGUN00:getSourceInput), eGunTest.grid_output (SISSYANAEX:EGUN00:getGridOutput), eGunTest.grid_input (SISSYANAEX:EGUN00:getGridInput), eGunTest.first_anode_output (SISSYANAEX:EGUN00:getFirstAnodeOutput), eGunTest.first_anode_input (SISSYANAEX:EGUN00:getFirstAnodeInput), eGunTest.focus_output (SISSYANAEX:EGUN00:getFocusOutput), eGunTest.focus_input (SISSYANAEX:EGUN00:getFocusInput), eGunTest.ecc_output (SISSYANAEX:EGUN00:getECCOutput), eGunTest.energy_input (SISSYANAEX:EGUN00:getEnergyInput), eGunTest.emission_current_input (SISSYANAEX:EGUN00:getEmissionCurrentInput), eGunTest.source_current_input (SISSYANAEX:EGUN00:getSourceCurrentInput)"
     ]
    }
   ],
   "source": [
    "prefixSISSYANAEX = 'SISSYANAEX:EGUN00:'\n",
    "e_gun = EGun(prefixSISSYANAEX, name='eGunTest')\n",
    "e_gun.wait_for_connection()"
   ]
  },
  {
   "cell_type": "code",
   "execution_count": null,
   "id": "martial-license",
   "metadata": {},
   "outputs": [],
   "source": [
    "e_gun.print_device_info()"
   ]
  },
  {
   "cell_type": "code",
   "execution_count": 22,
   "id": "extensive-marker",
   "metadata": {},
   "outputs": [
    {
     "name": "stdout",
     "output_type": "stream",
     "text": [
      "Device status is off.\n"
     ]
    }
   ],
   "source": [
    "#config_ophyd_logging(level='DEBUG')\n",
    "selectedSourceEnergy = 2\n",
    "e_gun.set_parameter_voltage(value=selectedSourceEnergy, output_object=e_gun.source_output, \n",
    "                            input_object=e_gun.source_input, name=\"Source\", unit=\"mV\")"
   ]
  },
  {
   "cell_type": "code",
   "execution_count": 13,
   "id": "pretty-plain",
   "metadata": {},
   "outputs": [
    {
     "name": "stdout",
     "output_type": "stream",
     "text": [
      "data keys (* hints)\n",
      "-------------------\n",
      " eGunTest_channel_one_input\n",
      " eGunTest_channel_one_output\n",
      " eGunTest_firmware_revision\n",
      " eGunTest_is_debug_enabled\n",
      " eGunTest_is_panel_enabled\n",
      " eGunTest_model_config\n",
      " eGunTest_model_name\n",
      " eGunTest_model_revision\n",
      " eGunTest_reset_device\n",
      " eGunTest_resume_device\n",
      " eGunTest_save_device\n",
      " eGunTest_serial_number\n",
      " eGunTest_shutdown_device\n",
      " eGunTest_status\n",
      "\n",
      "read attrs\n",
      "----------\n",
      "firmware_revision    EpicsSignalRO       ('eGunTest_firmware_revision')\n",
      "model_name           EpicsSignalRO       ('eGunTest_model_name')\n",
      "model_revision       EpicsSignalRO       ('eGunTest_model_revision')\n",
      "model_config         EpicsSignalRO       ('eGunTest_model_config')\n",
      "serial_number        EpicsSignalRO       ('eGunTest_serial_number')\n",
      "status               EpicsSignalRO       ('eGunTest_status')\n",
      "channel_one_output   EpicsSignal         ('eGunTest_channel_one_output')\n",
      "channel_one_input    EpicsSignalRO       ('eGunTest_channel_one_input')\n",
      "is_panel_enabled     EpicsSignal         ('eGunTest_is_panel_enabled')\n",
      "is_debug_enabled     EpicsSignal         ('eGunTest_is_debug_enabled')\n",
      "reset_device         EpicsSignal         ('eGunTest_reset_device')\n",
      "save_device          EpicsSignal         ('eGunTest_save_device')\n",
      "resume_device        EpicsSignal         ('eGunTest_resume_device')\n",
      "shutdown_device      EpicsSignal         ('eGunTest_shutdown_device')\n",
      "\n",
      "config keys\n",
      "-----------\n",
      "\n",
      "configuration attrs\n",
      "-------------------\n",
      "\n",
      "unused attrs\n",
      "------------\n",
      "\n"
     ]
    }
   ],
   "source": [
    "e_gun.summary()"
   ]
  }
 ],
 "metadata": {
  "kernelspec": {
   "display_name": "Python 3 (ipykernel)",
   "language": "python",
   "name": "python3"
  },
  "language_info": {
   "codemirror_mode": {
    "name": "ipython",
    "version": 3
   },
   "file_extension": ".py",
   "mimetype": "text/x-python",
   "name": "python",
   "nbconvert_exporter": "python",
   "pygments_lexer": "ipython3",
   "version": "3.9.2"
  }
 },
 "nbformat": 4,
 "nbformat_minor": 5
}
